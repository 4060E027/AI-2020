{
  "nbformat": 4,
  "nbformat_minor": 0,
  "metadata": {
    "colab": {
      "name": "Untitled0.ipynb",
      "provenance": [],
      "collapsed_sections": [],
      "authorship_tag": "ABX9TyPN3Y0gtbcb4BVD4dvK/iGD",
      "include_colab_link": true
    },
    "kernelspec": {
      "name": "python3",
      "display_name": "Python 3"
    }
  },
  "cells": [
    {
      "cell_type": "markdown",
      "metadata": {
        "id": "view-in-github",
        "colab_type": "text"
      },
      "source": [
        "<a href=\"https://colab.research.google.com/github/4060E027/AI-2020/blob/master/Untitled0.ipynb\" target=\"_parent\"><img src=\"https://colab.research.google.com/assets/colab-badge.svg\" alt=\"Open In Colab\"/></a>"
      ]
    },
    {
      "cell_type": "code",
      "metadata": {
        "id": "AUJCMoclyykg",
        "outputId": "835f9f48-4333-4a64-812c-a2ab916e4b2c",
        "colab": {
          "base_uri": "https://localhost:8080/",
          "height": 136
        }
      },
      "source": [
        "import numpy as np\n",
        "import pandas as pd\n",
        "\n",
        "s = pd.Series([1, 3, 5, np.nan, 6, 8])\n",
        "s"
      ],
      "execution_count": 2,
      "outputs": [
        {
          "output_type": "execute_result",
          "data": {
            "text/plain": [
              "0    1.0\n",
              "1    3.0\n",
              "2    5.0\n",
              "3    NaN\n",
              "4    6.0\n",
              "5    8.0\n",
              "dtype: float64"
            ]
          },
          "metadata": {
            "tags": []
          },
          "execution_count": 2
        }
      ]
    },
    {
      "cell_type": "code",
      "metadata": {
        "id": "N2Up-0wg0-ul",
        "outputId": "2df50a46-f074-492e-cc35-e6c418009939",
        "colab": {
          "base_uri": "https://localhost:8080/",
          "height": 68
        }
      },
      "source": [
        "dates = pd.date_range('20201021', periods=6)\n",
        "dates"
      ],
      "execution_count": 5,
      "outputs": [
        {
          "output_type": "execute_result",
          "data": {
            "text/plain": [
              "DatetimeIndex(['2020-10-21', '2020-10-22', '2020-10-23', '2020-10-24',\n",
              "               '2020-10-25', '2020-10-26'],\n",
              "              dtype='datetime64[ns]', freq='D')"
            ]
          },
          "metadata": {
            "tags": []
          },
          "execution_count": 5
        }
      ]
    },
    {
      "cell_type": "code",
      "metadata": {
        "id": "w_Wcn3QU1Hys",
        "outputId": "bf189bf3-794a-4f08-903a-ec648d62e435",
        "colab": {
          "base_uri": "https://localhost:8080/",
          "height": 235
        }
      },
      "source": [
        "df = pd.DataFrame(np.random.randn(6, 4), index=dates, columns=list('ABCD'))\n",
        "df"
      ],
      "execution_count": 6,
      "outputs": [
        {
          "output_type": "execute_result",
          "data": {
            "text/html": [
              "<div>\n",
              "<style scoped>\n",
              "    .dataframe tbody tr th:only-of-type {\n",
              "        vertical-align: middle;\n",
              "    }\n",
              "\n",
              "    .dataframe tbody tr th {\n",
              "        vertical-align: top;\n",
              "    }\n",
              "\n",
              "    .dataframe thead th {\n",
              "        text-align: right;\n",
              "    }\n",
              "</style>\n",
              "<table border=\"1\" class=\"dataframe\">\n",
              "  <thead>\n",
              "    <tr style=\"text-align: right;\">\n",
              "      <th></th>\n",
              "      <th>A</th>\n",
              "      <th>B</th>\n",
              "      <th>C</th>\n",
              "      <th>D</th>\n",
              "    </tr>\n",
              "  </thead>\n",
              "  <tbody>\n",
              "    <tr>\n",
              "      <th>2020-10-21</th>\n",
              "      <td>-0.002577</td>\n",
              "      <td>-0.564612</td>\n",
              "      <td>-0.457502</td>\n",
              "      <td>-1.663807</td>\n",
              "    </tr>\n",
              "    <tr>\n",
              "      <th>2020-10-22</th>\n",
              "      <td>0.527314</td>\n",
              "      <td>0.633114</td>\n",
              "      <td>0.859066</td>\n",
              "      <td>1.680599</td>\n",
              "    </tr>\n",
              "    <tr>\n",
              "      <th>2020-10-23</th>\n",
              "      <td>-0.306550</td>\n",
              "      <td>-0.967848</td>\n",
              "      <td>-0.125643</td>\n",
              "      <td>-0.273100</td>\n",
              "    </tr>\n",
              "    <tr>\n",
              "      <th>2020-10-24</th>\n",
              "      <td>1.374324</td>\n",
              "      <td>2.382720</td>\n",
              "      <td>-0.987374</td>\n",
              "      <td>-0.253845</td>\n",
              "    </tr>\n",
              "    <tr>\n",
              "      <th>2020-10-25</th>\n",
              "      <td>1.041641</td>\n",
              "      <td>-1.112078</td>\n",
              "      <td>-0.274214</td>\n",
              "      <td>0.890070</td>\n",
              "    </tr>\n",
              "    <tr>\n",
              "      <th>2020-10-26</th>\n",
              "      <td>0.092671</td>\n",
              "      <td>0.252193</td>\n",
              "      <td>2.623854</td>\n",
              "      <td>-1.886654</td>\n",
              "    </tr>\n",
              "  </tbody>\n",
              "</table>\n",
              "</div>"
            ],
            "text/plain": [
              "                   A         B         C         D\n",
              "2020-10-21 -0.002577 -0.564612 -0.457502 -1.663807\n",
              "2020-10-22  0.527314  0.633114  0.859066  1.680599\n",
              "2020-10-23 -0.306550 -0.967848 -0.125643 -0.273100\n",
              "2020-10-24  1.374324  2.382720 -0.987374 -0.253845\n",
              "2020-10-25  1.041641 -1.112078 -0.274214  0.890070\n",
              "2020-10-26  0.092671  0.252193  2.623854 -1.886654"
            ]
          },
          "metadata": {
            "tags": []
          },
          "execution_count": 6
        }
      ]
    },
    {
      "cell_type": "code",
      "metadata": {
        "id": "_l2dXM6O2UXF",
        "outputId": "57776c7c-105e-4589-e8ee-f51a4cd9c685",
        "colab": {
          "base_uri": "https://localhost:8080/",
          "height": 173
        }
      },
      "source": [
        "df2 = pd.DataFrame({'A': 1.,\n",
        "           'B': pd.Timestamp('20201021'),\n",
        "           'C': pd.Series(1, index=list(range(4)), dtype='float32'),\n",
        "           'D': np.array([3] * 4, dtype='int32'),\n",
        "           'E': pd.Categorical([\"Are\", \"You\", \"O\", \"K\"]),\n",
        "           'F': 'Yes'})\n",
        "df2"
      ],
      "execution_count": 14,
      "outputs": [
        {
          "output_type": "execute_result",
          "data": {
            "text/html": [
              "<div>\n",
              "<style scoped>\n",
              "    .dataframe tbody tr th:only-of-type {\n",
              "        vertical-align: middle;\n",
              "    }\n",
              "\n",
              "    .dataframe tbody tr th {\n",
              "        vertical-align: top;\n",
              "    }\n",
              "\n",
              "    .dataframe thead th {\n",
              "        text-align: right;\n",
              "    }\n",
              "</style>\n",
              "<table border=\"1\" class=\"dataframe\">\n",
              "  <thead>\n",
              "    <tr style=\"text-align: right;\">\n",
              "      <th></th>\n",
              "      <th>A</th>\n",
              "      <th>B</th>\n",
              "      <th>C</th>\n",
              "      <th>D</th>\n",
              "      <th>E</th>\n",
              "      <th>F</th>\n",
              "    </tr>\n",
              "  </thead>\n",
              "  <tbody>\n",
              "    <tr>\n",
              "      <th>0</th>\n",
              "      <td>1.0</td>\n",
              "      <td>2020-10-21</td>\n",
              "      <td>1.0</td>\n",
              "      <td>3</td>\n",
              "      <td>Are</td>\n",
              "      <td>Yes</td>\n",
              "    </tr>\n",
              "    <tr>\n",
              "      <th>1</th>\n",
              "      <td>1.0</td>\n",
              "      <td>2020-10-21</td>\n",
              "      <td>1.0</td>\n",
              "      <td>3</td>\n",
              "      <td>You</td>\n",
              "      <td>Yes</td>\n",
              "    </tr>\n",
              "    <tr>\n",
              "      <th>2</th>\n",
              "      <td>1.0</td>\n",
              "      <td>2020-10-21</td>\n",
              "      <td>1.0</td>\n",
              "      <td>3</td>\n",
              "      <td>O</td>\n",
              "      <td>Yes</td>\n",
              "    </tr>\n",
              "    <tr>\n",
              "      <th>3</th>\n",
              "      <td>1.0</td>\n",
              "      <td>2020-10-21</td>\n",
              "      <td>1.0</td>\n",
              "      <td>3</td>\n",
              "      <td>K</td>\n",
              "      <td>Yes</td>\n",
              "    </tr>\n",
              "  </tbody>\n",
              "</table>\n",
              "</div>"
            ],
            "text/plain": [
              "     A          B    C  D    E    F\n",
              "0  1.0 2020-10-21  1.0  3  Are  Yes\n",
              "1  1.0 2020-10-21  1.0  3  You  Yes\n",
              "2  1.0 2020-10-21  1.0  3    O  Yes\n",
              "3  1.0 2020-10-21  1.0  3    K  Yes"
            ]
          },
          "metadata": {
            "tags": []
          },
          "execution_count": 14
        }
      ]
    },
    {
      "cell_type": "code",
      "metadata": {
        "id": "Is6PR9Ba4aSZ",
        "outputId": "e22755e2-be2c-4806-85ec-7192788451f4",
        "colab": {
          "base_uri": "https://localhost:8080/",
          "height": 136
        }
      },
      "source": [
        "df2.dtypes"
      ],
      "execution_count": 15,
      "outputs": [
        {
          "output_type": "execute_result",
          "data": {
            "text/plain": [
              "A           float64\n",
              "B    datetime64[ns]\n",
              "C           float32\n",
              "D             int32\n",
              "E          category\n",
              "F            object\n",
              "dtype: object"
            ]
          },
          "metadata": {
            "tags": []
          },
          "execution_count": 15
        }
      ]
    },
    {
      "cell_type": "code",
      "metadata": {
        "id": "mfyf5Bwx5mcv",
        "outputId": "8973cd9e-2450-4913-cbca-28462b64b8bb",
        "colab": {
          "base_uri": "https://localhost:8080/",
          "height": 111
        }
      },
      "source": [
        "df.head(2)"
      ],
      "execution_count": 20,
      "outputs": [
        {
          "output_type": "execute_result",
          "data": {
            "text/html": [
              "<div>\n",
              "<style scoped>\n",
              "    .dataframe tbody tr th:only-of-type {\n",
              "        vertical-align: middle;\n",
              "    }\n",
              "\n",
              "    .dataframe tbody tr th {\n",
              "        vertical-align: top;\n",
              "    }\n",
              "\n",
              "    .dataframe thead th {\n",
              "        text-align: right;\n",
              "    }\n",
              "</style>\n",
              "<table border=\"1\" class=\"dataframe\">\n",
              "  <thead>\n",
              "    <tr style=\"text-align: right;\">\n",
              "      <th></th>\n",
              "      <th>A</th>\n",
              "      <th>B</th>\n",
              "      <th>C</th>\n",
              "      <th>D</th>\n",
              "    </tr>\n",
              "  </thead>\n",
              "  <tbody>\n",
              "    <tr>\n",
              "      <th>2020-10-21</th>\n",
              "      <td>-0.002577</td>\n",
              "      <td>-0.564612</td>\n",
              "      <td>-0.457502</td>\n",
              "      <td>-1.663807</td>\n",
              "    </tr>\n",
              "    <tr>\n",
              "      <th>2020-10-22</th>\n",
              "      <td>0.527314</td>\n",
              "      <td>0.633114</td>\n",
              "      <td>0.859066</td>\n",
              "      <td>1.680599</td>\n",
              "    </tr>\n",
              "  </tbody>\n",
              "</table>\n",
              "</div>"
            ],
            "text/plain": [
              "                   A         B         C         D\n",
              "2020-10-21 -0.002577 -0.564612 -0.457502 -1.663807\n",
              "2020-10-22  0.527314  0.633114  0.859066  1.680599"
            ]
          },
          "metadata": {
            "tags": []
          },
          "execution_count": 20
        }
      ]
    },
    {
      "cell_type": "code",
      "metadata": {
        "id": "XoSVH3jL7Z5V",
        "outputId": "aa385f4f-94b8-4456-cab3-7a8f1da5317a",
        "colab": {
          "base_uri": "https://localhost:8080/",
          "height": 111
        }
      },
      "source": [
        "df.tail(2)"
      ],
      "execution_count": 21,
      "outputs": [
        {
          "output_type": "execute_result",
          "data": {
            "text/html": [
              "<div>\n",
              "<style scoped>\n",
              "    .dataframe tbody tr th:only-of-type {\n",
              "        vertical-align: middle;\n",
              "    }\n",
              "\n",
              "    .dataframe tbody tr th {\n",
              "        vertical-align: top;\n",
              "    }\n",
              "\n",
              "    .dataframe thead th {\n",
              "        text-align: right;\n",
              "    }\n",
              "</style>\n",
              "<table border=\"1\" class=\"dataframe\">\n",
              "  <thead>\n",
              "    <tr style=\"text-align: right;\">\n",
              "      <th></th>\n",
              "      <th>A</th>\n",
              "      <th>B</th>\n",
              "      <th>C</th>\n",
              "      <th>D</th>\n",
              "    </tr>\n",
              "  </thead>\n",
              "  <tbody>\n",
              "    <tr>\n",
              "      <th>2020-10-25</th>\n",
              "      <td>1.041641</td>\n",
              "      <td>-1.112078</td>\n",
              "      <td>-0.274214</td>\n",
              "      <td>0.890070</td>\n",
              "    </tr>\n",
              "    <tr>\n",
              "      <th>2020-10-26</th>\n",
              "      <td>0.092671</td>\n",
              "      <td>0.252193</td>\n",
              "      <td>2.623854</td>\n",
              "      <td>-1.886654</td>\n",
              "    </tr>\n",
              "  </tbody>\n",
              "</table>\n",
              "</div>"
            ],
            "text/plain": [
              "                   A         B         C         D\n",
              "2020-10-25  1.041641 -1.112078 -0.274214  0.890070\n",
              "2020-10-26  0.092671  0.252193  2.623854 -1.886654"
            ]
          },
          "metadata": {
            "tags": []
          },
          "execution_count": 21
        }
      ]
    },
    {
      "cell_type": "code",
      "metadata": {
        "id": "Dw4bXlW76o_V",
        "outputId": "dda50942-ee93-432d-d627-8996a3ba112f",
        "colab": {
          "base_uri": "https://localhost:8080/",
          "height": 68
        }
      },
      "source": [
        "df.index"
      ],
      "execution_count": 18,
      "outputs": [
        {
          "output_type": "execute_result",
          "data": {
            "text/plain": [
              "DatetimeIndex(['2020-10-21', '2020-10-22', '2020-10-23', '2020-10-24',\n",
              "               '2020-10-25', '2020-10-26'],\n",
              "              dtype='datetime64[ns]', freq='D')"
            ]
          },
          "metadata": {
            "tags": []
          },
          "execution_count": 18
        }
      ]
    },
    {
      "cell_type": "code",
      "metadata": {
        "id": "Yh8v8cKL6rLd",
        "outputId": "74bd1551-8441-44c9-e3c9-69164a88a3f9",
        "colab": {
          "base_uri": "https://localhost:8080/",
          "height": 34
        }
      },
      "source": [
        "df.columns"
      ],
      "execution_count": 19,
      "outputs": [
        {
          "output_type": "execute_result",
          "data": {
            "text/plain": [
              "Index(['A', 'B', 'C', 'D'], dtype='object')"
            ]
          },
          "metadata": {
            "tags": []
          },
          "execution_count": 19
        }
      ]
    },
    {
      "cell_type": "code",
      "metadata": {
        "id": "s1si_aol7vt_",
        "outputId": "17fb0ea7-e598-4f5c-a413-086a1eace822",
        "colab": {
          "base_uri": "https://localhost:8080/",
          "height": 221
        }
      },
      "source": [
        "df.to_numpy()"
      ],
      "execution_count": 22,
      "outputs": [
        {
          "output_type": "execute_result",
          "data": {
            "text/plain": [
              "array([[-2.57685167e-03, -5.64612344e-01, -4.57501540e-01,\n",
              "        -1.66380723e+00],\n",
              "       [ 5.27314210e-01,  6.33114000e-01,  8.59066031e-01,\n",
              "         1.68059929e+00],\n",
              "       [-3.06549704e-01, -9.67848147e-01, -1.25642901e-01,\n",
              "        -2.73100019e-01],\n",
              "       [ 1.37432392e+00,  2.38271972e+00, -9.87374009e-01,\n",
              "        -2.53845228e-01],\n",
              "       [ 1.04164064e+00, -1.11207763e+00, -2.74214131e-01,\n",
              "         8.90070199e-01],\n",
              "       [ 9.26706935e-02,  2.52193417e-01,  2.62385360e+00,\n",
              "        -1.88665379e+00]])"
            ]
          },
          "metadata": {
            "tags": []
          },
          "execution_count": 22
        }
      ]
    },
    {
      "cell_type": "code",
      "metadata": {
        "id": "ozHPniyG70WU",
        "outputId": "93093514-70c4-4380-deb7-ea2c24184199",
        "colab": {
          "base_uri": "https://localhost:8080/",
          "height": 102
        }
      },
      "source": [
        "df2.to_numpy()"
      ],
      "execution_count": 23,
      "outputs": [
        {
          "output_type": "execute_result",
          "data": {
            "text/plain": [
              "array([[1.0, Timestamp('2020-10-21 00:00:00'), 1.0, 3, 'Are', 'Yes'],\n",
              "       [1.0, Timestamp('2020-10-21 00:00:00'), 1.0, 3, 'You', 'Yes'],\n",
              "       [1.0, Timestamp('2020-10-21 00:00:00'), 1.0, 3, 'O', 'Yes'],\n",
              "       [1.0, Timestamp('2020-10-21 00:00:00'), 1.0, 3, 'K', 'Yes']],\n",
              "      dtype=object)"
            ]
          },
          "metadata": {
            "tags": []
          },
          "execution_count": 23
        }
      ]
    },
    {
      "cell_type": "code",
      "metadata": {
        "id": "VS5fRMDC7-jy",
        "outputId": "049ed760-82ae-494b-8fb6-782337e2e74d",
        "colab": {
          "base_uri": "https://localhost:8080/",
          "height": 297
        }
      },
      "source": [
        "df.describe()"
      ],
      "execution_count": 24,
      "outputs": [
        {
          "output_type": "execute_result",
          "data": {
            "text/html": [
              "<div>\n",
              "<style scoped>\n",
              "    .dataframe tbody tr th:only-of-type {\n",
              "        vertical-align: middle;\n",
              "    }\n",
              "\n",
              "    .dataframe tbody tr th {\n",
              "        vertical-align: top;\n",
              "    }\n",
              "\n",
              "    .dataframe thead th {\n",
              "        text-align: right;\n",
              "    }\n",
              "</style>\n",
              "<table border=\"1\" class=\"dataframe\">\n",
              "  <thead>\n",
              "    <tr style=\"text-align: right;\">\n",
              "      <th></th>\n",
              "      <th>A</th>\n",
              "      <th>B</th>\n",
              "      <th>C</th>\n",
              "      <th>D</th>\n",
              "    </tr>\n",
              "  </thead>\n",
              "  <tbody>\n",
              "    <tr>\n",
              "      <th>count</th>\n",
              "      <td>6.000000</td>\n",
              "      <td>6.000000</td>\n",
              "      <td>6.000000</td>\n",
              "      <td>6.000000</td>\n",
              "    </tr>\n",
              "    <tr>\n",
              "      <th>mean</th>\n",
              "      <td>0.454470</td>\n",
              "      <td>0.103915</td>\n",
              "      <td>0.273031</td>\n",
              "      <td>-0.251123</td>\n",
              "    </tr>\n",
              "    <tr>\n",
              "      <th>std</th>\n",
              "      <td>0.650407</td>\n",
              "      <td>1.309140</td>\n",
              "      <td>1.300040</td>\n",
              "      <td>1.393198</td>\n",
              "    </tr>\n",
              "    <tr>\n",
              "      <th>min</th>\n",
              "      <td>-0.306550</td>\n",
              "      <td>-1.112078</td>\n",
              "      <td>-0.987374</td>\n",
              "      <td>-1.886654</td>\n",
              "    </tr>\n",
              "    <tr>\n",
              "      <th>25%</th>\n",
              "      <td>0.021235</td>\n",
              "      <td>-0.867039</td>\n",
              "      <td>-0.411680</td>\n",
              "      <td>-1.316130</td>\n",
              "    </tr>\n",
              "    <tr>\n",
              "      <th>50%</th>\n",
              "      <td>0.309992</td>\n",
              "      <td>-0.156209</td>\n",
              "      <td>-0.199929</td>\n",
              "      <td>-0.263473</td>\n",
              "    </tr>\n",
              "    <tr>\n",
              "      <th>75%</th>\n",
              "      <td>0.913059</td>\n",
              "      <td>0.537884</td>\n",
              "      <td>0.612889</td>\n",
              "      <td>0.604091</td>\n",
              "    </tr>\n",
              "    <tr>\n",
              "      <th>max</th>\n",
              "      <td>1.374324</td>\n",
              "      <td>2.382720</td>\n",
              "      <td>2.623854</td>\n",
              "      <td>1.680599</td>\n",
              "    </tr>\n",
              "  </tbody>\n",
              "</table>\n",
              "</div>"
            ],
            "text/plain": [
              "              A         B         C         D\n",
              "count  6.000000  6.000000  6.000000  6.000000\n",
              "mean   0.454470  0.103915  0.273031 -0.251123\n",
              "std    0.650407  1.309140  1.300040  1.393198\n",
              "min   -0.306550 -1.112078 -0.987374 -1.886654\n",
              "25%    0.021235 -0.867039 -0.411680 -1.316130\n",
              "50%    0.309992 -0.156209 -0.199929 -0.263473\n",
              "75%    0.913059  0.537884  0.612889  0.604091\n",
              "max    1.374324  2.382720  2.623854  1.680599"
            ]
          },
          "metadata": {
            "tags": []
          },
          "execution_count": 24
        }
      ]
    },
    {
      "cell_type": "code",
      "metadata": {
        "id": "RLobNGq28ouS",
        "outputId": "146dc5f6-3296-41cc-ec76-21ca145b9225",
        "colab": {
          "base_uri": "https://localhost:8080/",
          "height": 173
        }
      },
      "source": [
        "df.T"
      ],
      "execution_count": 25,
      "outputs": [
        {
          "output_type": "execute_result",
          "data": {
            "text/html": [
              "<div>\n",
              "<style scoped>\n",
              "    .dataframe tbody tr th:only-of-type {\n",
              "        vertical-align: middle;\n",
              "    }\n",
              "\n",
              "    .dataframe tbody tr th {\n",
              "        vertical-align: top;\n",
              "    }\n",
              "\n",
              "    .dataframe thead th {\n",
              "        text-align: right;\n",
              "    }\n",
              "</style>\n",
              "<table border=\"1\" class=\"dataframe\">\n",
              "  <thead>\n",
              "    <tr style=\"text-align: right;\">\n",
              "      <th></th>\n",
              "      <th>2020-10-21</th>\n",
              "      <th>2020-10-22</th>\n",
              "      <th>2020-10-23</th>\n",
              "      <th>2020-10-24</th>\n",
              "      <th>2020-10-25</th>\n",
              "      <th>2020-10-26</th>\n",
              "    </tr>\n",
              "  </thead>\n",
              "  <tbody>\n",
              "    <tr>\n",
              "      <th>A</th>\n",
              "      <td>-0.002577</td>\n",
              "      <td>0.527314</td>\n",
              "      <td>-0.306550</td>\n",
              "      <td>1.374324</td>\n",
              "      <td>1.041641</td>\n",
              "      <td>0.092671</td>\n",
              "    </tr>\n",
              "    <tr>\n",
              "      <th>B</th>\n",
              "      <td>-0.564612</td>\n",
              "      <td>0.633114</td>\n",
              "      <td>-0.967848</td>\n",
              "      <td>2.382720</td>\n",
              "      <td>-1.112078</td>\n",
              "      <td>0.252193</td>\n",
              "    </tr>\n",
              "    <tr>\n",
              "      <th>C</th>\n",
              "      <td>-0.457502</td>\n",
              "      <td>0.859066</td>\n",
              "      <td>-0.125643</td>\n",
              "      <td>-0.987374</td>\n",
              "      <td>-0.274214</td>\n",
              "      <td>2.623854</td>\n",
              "    </tr>\n",
              "    <tr>\n",
              "      <th>D</th>\n",
              "      <td>-1.663807</td>\n",
              "      <td>1.680599</td>\n",
              "      <td>-0.273100</td>\n",
              "      <td>-0.253845</td>\n",
              "      <td>0.890070</td>\n",
              "      <td>-1.886654</td>\n",
              "    </tr>\n",
              "  </tbody>\n",
              "</table>\n",
              "</div>"
            ],
            "text/plain": [
              "   2020-10-21  2020-10-22  2020-10-23  2020-10-24  2020-10-25  2020-10-26\n",
              "A   -0.002577    0.527314   -0.306550    1.374324    1.041641    0.092671\n",
              "B   -0.564612    0.633114   -0.967848    2.382720   -1.112078    0.252193\n",
              "C   -0.457502    0.859066   -0.125643   -0.987374   -0.274214    2.623854\n",
              "D   -1.663807    1.680599   -0.273100   -0.253845    0.890070   -1.886654"
            ]
          },
          "metadata": {
            "tags": []
          },
          "execution_count": 25
        }
      ]
    },
    {
      "cell_type": "code",
      "metadata": {
        "id": "PA8eLG_B9H4a",
        "outputId": "92dc15c9-5f6c-4c78-dcc0-30444f109e43",
        "colab": {
          "base_uri": "https://localhost:8080/",
          "height": 235
        }
      },
      "source": [
        "df.sort_index(axis=1, ascending=False)"
      ],
      "execution_count": 26,
      "outputs": [
        {
          "output_type": "execute_result",
          "data": {
            "text/html": [
              "<div>\n",
              "<style scoped>\n",
              "    .dataframe tbody tr th:only-of-type {\n",
              "        vertical-align: middle;\n",
              "    }\n",
              "\n",
              "    .dataframe tbody tr th {\n",
              "        vertical-align: top;\n",
              "    }\n",
              "\n",
              "    .dataframe thead th {\n",
              "        text-align: right;\n",
              "    }\n",
              "</style>\n",
              "<table border=\"1\" class=\"dataframe\">\n",
              "  <thead>\n",
              "    <tr style=\"text-align: right;\">\n",
              "      <th></th>\n",
              "      <th>D</th>\n",
              "      <th>C</th>\n",
              "      <th>B</th>\n",
              "      <th>A</th>\n",
              "    </tr>\n",
              "  </thead>\n",
              "  <tbody>\n",
              "    <tr>\n",
              "      <th>2020-10-21</th>\n",
              "      <td>-1.663807</td>\n",
              "      <td>-0.457502</td>\n",
              "      <td>-0.564612</td>\n",
              "      <td>-0.002577</td>\n",
              "    </tr>\n",
              "    <tr>\n",
              "      <th>2020-10-22</th>\n",
              "      <td>1.680599</td>\n",
              "      <td>0.859066</td>\n",
              "      <td>0.633114</td>\n",
              "      <td>0.527314</td>\n",
              "    </tr>\n",
              "    <tr>\n",
              "      <th>2020-10-23</th>\n",
              "      <td>-0.273100</td>\n",
              "      <td>-0.125643</td>\n",
              "      <td>-0.967848</td>\n",
              "      <td>-0.306550</td>\n",
              "    </tr>\n",
              "    <tr>\n",
              "      <th>2020-10-24</th>\n",
              "      <td>-0.253845</td>\n",
              "      <td>-0.987374</td>\n",
              "      <td>2.382720</td>\n",
              "      <td>1.374324</td>\n",
              "    </tr>\n",
              "    <tr>\n",
              "      <th>2020-10-25</th>\n",
              "      <td>0.890070</td>\n",
              "      <td>-0.274214</td>\n",
              "      <td>-1.112078</td>\n",
              "      <td>1.041641</td>\n",
              "    </tr>\n",
              "    <tr>\n",
              "      <th>2020-10-26</th>\n",
              "      <td>-1.886654</td>\n",
              "      <td>2.623854</td>\n",
              "      <td>0.252193</td>\n",
              "      <td>0.092671</td>\n",
              "    </tr>\n",
              "  </tbody>\n",
              "</table>\n",
              "</div>"
            ],
            "text/plain": [
              "                   D         C         B         A\n",
              "2020-10-21 -1.663807 -0.457502 -0.564612 -0.002577\n",
              "2020-10-22  1.680599  0.859066  0.633114  0.527314\n",
              "2020-10-23 -0.273100 -0.125643 -0.967848 -0.306550\n",
              "2020-10-24 -0.253845 -0.987374  2.382720  1.374324\n",
              "2020-10-25  0.890070 -0.274214 -1.112078  1.041641\n",
              "2020-10-26 -1.886654  2.623854  0.252193  0.092671"
            ]
          },
          "metadata": {
            "tags": []
          },
          "execution_count": 26
        }
      ]
    },
    {
      "cell_type": "code",
      "metadata": {
        "id": "yRAvBHlQ9J8t",
        "outputId": "b3808b97-adbe-45c8-d097-73f7dcb7e032",
        "colab": {
          "base_uri": "https://localhost:8080/",
          "height": 235
        }
      },
      "source": [
        "df.sort_values(by='C')"
      ],
      "execution_count": 27,
      "outputs": [
        {
          "output_type": "execute_result",
          "data": {
            "text/html": [
              "<div>\n",
              "<style scoped>\n",
              "    .dataframe tbody tr th:only-of-type {\n",
              "        vertical-align: middle;\n",
              "    }\n",
              "\n",
              "    .dataframe tbody tr th {\n",
              "        vertical-align: top;\n",
              "    }\n",
              "\n",
              "    .dataframe thead th {\n",
              "        text-align: right;\n",
              "    }\n",
              "</style>\n",
              "<table border=\"1\" class=\"dataframe\">\n",
              "  <thead>\n",
              "    <tr style=\"text-align: right;\">\n",
              "      <th></th>\n",
              "      <th>A</th>\n",
              "      <th>B</th>\n",
              "      <th>C</th>\n",
              "      <th>D</th>\n",
              "    </tr>\n",
              "  </thead>\n",
              "  <tbody>\n",
              "    <tr>\n",
              "      <th>2020-10-24</th>\n",
              "      <td>1.374324</td>\n",
              "      <td>2.382720</td>\n",
              "      <td>-0.987374</td>\n",
              "      <td>-0.253845</td>\n",
              "    </tr>\n",
              "    <tr>\n",
              "      <th>2020-10-21</th>\n",
              "      <td>-0.002577</td>\n",
              "      <td>-0.564612</td>\n",
              "      <td>-0.457502</td>\n",
              "      <td>-1.663807</td>\n",
              "    </tr>\n",
              "    <tr>\n",
              "      <th>2020-10-25</th>\n",
              "      <td>1.041641</td>\n",
              "      <td>-1.112078</td>\n",
              "      <td>-0.274214</td>\n",
              "      <td>0.890070</td>\n",
              "    </tr>\n",
              "    <tr>\n",
              "      <th>2020-10-23</th>\n",
              "      <td>-0.306550</td>\n",
              "      <td>-0.967848</td>\n",
              "      <td>-0.125643</td>\n",
              "      <td>-0.273100</td>\n",
              "    </tr>\n",
              "    <tr>\n",
              "      <th>2020-10-22</th>\n",
              "      <td>0.527314</td>\n",
              "      <td>0.633114</td>\n",
              "      <td>0.859066</td>\n",
              "      <td>1.680599</td>\n",
              "    </tr>\n",
              "    <tr>\n",
              "      <th>2020-10-26</th>\n",
              "      <td>0.092671</td>\n",
              "      <td>0.252193</td>\n",
              "      <td>2.623854</td>\n",
              "      <td>-1.886654</td>\n",
              "    </tr>\n",
              "  </tbody>\n",
              "</table>\n",
              "</div>"
            ],
            "text/plain": [
              "                   A         B         C         D\n",
              "2020-10-24  1.374324  2.382720 -0.987374 -0.253845\n",
              "2020-10-21 -0.002577 -0.564612 -0.457502 -1.663807\n",
              "2020-10-25  1.041641 -1.112078 -0.274214  0.890070\n",
              "2020-10-23 -0.306550 -0.967848 -0.125643 -0.273100\n",
              "2020-10-22  0.527314  0.633114  0.859066  1.680599\n",
              "2020-10-26  0.092671  0.252193  2.623854 -1.886654"
            ]
          },
          "metadata": {
            "tags": []
          },
          "execution_count": 27
        }
      ]
    },
    {
      "cell_type": "code",
      "metadata": {
        "id": "HE4dUu7p9Xf6",
        "outputId": "4bb44742-463d-4ea2-e751-286885058627",
        "colab": {
          "base_uri": "https://localhost:8080/",
          "height": 136
        }
      },
      "source": [
        "df['A']"
      ],
      "execution_count": 28,
      "outputs": [
        {
          "output_type": "execute_result",
          "data": {
            "text/plain": [
              "2020-10-21   -0.002577\n",
              "2020-10-22    0.527314\n",
              "2020-10-23   -0.306550\n",
              "2020-10-24    1.374324\n",
              "2020-10-25    1.041641\n",
              "2020-10-26    0.092671\n",
              "Freq: D, Name: A, dtype: float64"
            ]
          },
          "metadata": {
            "tags": []
          },
          "execution_count": 28
        }
      ]
    },
    {
      "cell_type": "code",
      "metadata": {
        "id": "UjQetoWs9aZ1",
        "outputId": "e54578c9-38bf-44c0-abb7-7a3049b96db4",
        "colab": {
          "base_uri": "https://localhost:8080/",
          "height": 142
        }
      },
      "source": [
        "df[0:3]"
      ],
      "execution_count": 29,
      "outputs": [
        {
          "output_type": "execute_result",
          "data": {
            "text/html": [
              "<div>\n",
              "<style scoped>\n",
              "    .dataframe tbody tr th:only-of-type {\n",
              "        vertical-align: middle;\n",
              "    }\n",
              "\n",
              "    .dataframe tbody tr th {\n",
              "        vertical-align: top;\n",
              "    }\n",
              "\n",
              "    .dataframe thead th {\n",
              "        text-align: right;\n",
              "    }\n",
              "</style>\n",
              "<table border=\"1\" class=\"dataframe\">\n",
              "  <thead>\n",
              "    <tr style=\"text-align: right;\">\n",
              "      <th></th>\n",
              "      <th>A</th>\n",
              "      <th>B</th>\n",
              "      <th>C</th>\n",
              "      <th>D</th>\n",
              "    </tr>\n",
              "  </thead>\n",
              "  <tbody>\n",
              "    <tr>\n",
              "      <th>2020-10-21</th>\n",
              "      <td>-0.002577</td>\n",
              "      <td>-0.564612</td>\n",
              "      <td>-0.457502</td>\n",
              "      <td>-1.663807</td>\n",
              "    </tr>\n",
              "    <tr>\n",
              "      <th>2020-10-22</th>\n",
              "      <td>0.527314</td>\n",
              "      <td>0.633114</td>\n",
              "      <td>0.859066</td>\n",
              "      <td>1.680599</td>\n",
              "    </tr>\n",
              "    <tr>\n",
              "      <th>2020-10-23</th>\n",
              "      <td>-0.306550</td>\n",
              "      <td>-0.967848</td>\n",
              "      <td>-0.125643</td>\n",
              "      <td>-0.273100</td>\n",
              "    </tr>\n",
              "  </tbody>\n",
              "</table>\n",
              "</div>"
            ],
            "text/plain": [
              "                   A         B         C         D\n",
              "2020-10-21 -0.002577 -0.564612 -0.457502 -1.663807\n",
              "2020-10-22  0.527314  0.633114  0.859066  1.680599\n",
              "2020-10-23 -0.306550 -0.967848 -0.125643 -0.273100"
            ]
          },
          "metadata": {
            "tags": []
          },
          "execution_count": 29
        }
      ]
    },
    {
      "cell_type": "code",
      "metadata": {
        "id": "fhlY0aHL9bvS",
        "outputId": "0eb61736-9f7e-4f1b-a99c-f4774d3fdaca",
        "colab": {
          "base_uri": "https://localhost:8080/",
          "height": 142
        }
      },
      "source": [
        "df['20201022':'20201024']"
      ],
      "execution_count": 32,
      "outputs": [
        {
          "output_type": "execute_result",
          "data": {
            "text/html": [
              "<div>\n",
              "<style scoped>\n",
              "    .dataframe tbody tr th:only-of-type {\n",
              "        vertical-align: middle;\n",
              "    }\n",
              "\n",
              "    .dataframe tbody tr th {\n",
              "        vertical-align: top;\n",
              "    }\n",
              "\n",
              "    .dataframe thead th {\n",
              "        text-align: right;\n",
              "    }\n",
              "</style>\n",
              "<table border=\"1\" class=\"dataframe\">\n",
              "  <thead>\n",
              "    <tr style=\"text-align: right;\">\n",
              "      <th></th>\n",
              "      <th>A</th>\n",
              "      <th>B</th>\n",
              "      <th>C</th>\n",
              "      <th>D</th>\n",
              "    </tr>\n",
              "  </thead>\n",
              "  <tbody>\n",
              "    <tr>\n",
              "      <th>2020-10-22</th>\n",
              "      <td>0.527314</td>\n",
              "      <td>0.633114</td>\n",
              "      <td>0.859066</td>\n",
              "      <td>1.680599</td>\n",
              "    </tr>\n",
              "    <tr>\n",
              "      <th>2020-10-23</th>\n",
              "      <td>-0.306550</td>\n",
              "      <td>-0.967848</td>\n",
              "      <td>-0.125643</td>\n",
              "      <td>-0.273100</td>\n",
              "    </tr>\n",
              "    <tr>\n",
              "      <th>2020-10-24</th>\n",
              "      <td>1.374324</td>\n",
              "      <td>2.382720</td>\n",
              "      <td>-0.987374</td>\n",
              "      <td>-0.253845</td>\n",
              "    </tr>\n",
              "  </tbody>\n",
              "</table>\n",
              "</div>"
            ],
            "text/plain": [
              "                   A         B         C         D\n",
              "2020-10-22  0.527314  0.633114  0.859066  1.680599\n",
              "2020-10-23 -0.306550 -0.967848 -0.125643 -0.273100\n",
              "2020-10-24  1.374324  2.382720 -0.987374 -0.253845"
            ]
          },
          "metadata": {
            "tags": []
          },
          "execution_count": 32
        }
      ]
    },
    {
      "cell_type": "code",
      "metadata": {
        "id": "4pCrGdk69unh",
        "outputId": "44610a00-4191-4eb6-fe3d-f08f8f4f04dd",
        "colab": {
          "base_uri": "https://localhost:8080/",
          "height": 102
        }
      },
      "source": [
        "df.loc[dates[0]]"
      ],
      "execution_count": 33,
      "outputs": [
        {
          "output_type": "execute_result",
          "data": {
            "text/plain": [
              "A   -0.002577\n",
              "B   -0.564612\n",
              "C   -0.457502\n",
              "D   -1.663807\n",
              "Name: 2020-10-21 00:00:00, dtype: float64"
            ]
          },
          "metadata": {
            "tags": []
          },
          "execution_count": 33
        }
      ]
    },
    {
      "cell_type": "code",
      "metadata": {
        "id": "VA5mfjeu-Cqp",
        "outputId": "a4e7adce-7936-4d4a-f703-9733e9808875",
        "colab": {
          "base_uri": "https://localhost:8080/",
          "height": 235
        }
      },
      "source": [
        "df.loc[:, ['A', 'B']]"
      ],
      "execution_count": 34,
      "outputs": [
        {
          "output_type": "execute_result",
          "data": {
            "text/html": [
              "<div>\n",
              "<style scoped>\n",
              "    .dataframe tbody tr th:only-of-type {\n",
              "        vertical-align: middle;\n",
              "    }\n",
              "\n",
              "    .dataframe tbody tr th {\n",
              "        vertical-align: top;\n",
              "    }\n",
              "\n",
              "    .dataframe thead th {\n",
              "        text-align: right;\n",
              "    }\n",
              "</style>\n",
              "<table border=\"1\" class=\"dataframe\">\n",
              "  <thead>\n",
              "    <tr style=\"text-align: right;\">\n",
              "      <th></th>\n",
              "      <th>A</th>\n",
              "      <th>B</th>\n",
              "    </tr>\n",
              "  </thead>\n",
              "  <tbody>\n",
              "    <tr>\n",
              "      <th>2020-10-21</th>\n",
              "      <td>-0.002577</td>\n",
              "      <td>-0.564612</td>\n",
              "    </tr>\n",
              "    <tr>\n",
              "      <th>2020-10-22</th>\n",
              "      <td>0.527314</td>\n",
              "      <td>0.633114</td>\n",
              "    </tr>\n",
              "    <tr>\n",
              "      <th>2020-10-23</th>\n",
              "      <td>-0.306550</td>\n",
              "      <td>-0.967848</td>\n",
              "    </tr>\n",
              "    <tr>\n",
              "      <th>2020-10-24</th>\n",
              "      <td>1.374324</td>\n",
              "      <td>2.382720</td>\n",
              "    </tr>\n",
              "    <tr>\n",
              "      <th>2020-10-25</th>\n",
              "      <td>1.041641</td>\n",
              "      <td>-1.112078</td>\n",
              "    </tr>\n",
              "    <tr>\n",
              "      <th>2020-10-26</th>\n",
              "      <td>0.092671</td>\n",
              "      <td>0.252193</td>\n",
              "    </tr>\n",
              "  </tbody>\n",
              "</table>\n",
              "</div>"
            ],
            "text/plain": [
              "                   A         B\n",
              "2020-10-21 -0.002577 -0.564612\n",
              "2020-10-22  0.527314  0.633114\n",
              "2020-10-23 -0.306550 -0.967848\n",
              "2020-10-24  1.374324  2.382720\n",
              "2020-10-25  1.041641 -1.112078\n",
              "2020-10-26  0.092671  0.252193"
            ]
          },
          "metadata": {
            "tags": []
          },
          "execution_count": 34
        }
      ]
    },
    {
      "cell_type": "code",
      "metadata": {
        "id": "t5j2TFeq-DXb"
      },
      "source": [
        ""
      ],
      "execution_count": null,
      "outputs": []
    }
  ]
}
