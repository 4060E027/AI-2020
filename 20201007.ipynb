{
  "nbformat": 4,
  "nbformat_minor": 0,
  "metadata": {
    "colab": {
      "name": "20201007.ipynb",
      "provenance": [],
      "collapsed_sections": [],
      "authorship_tag": "ABX9TyOZgJ+k2jZpyLVNf1RETF28",
      "include_colab_link": true
    },
    "kernelspec": {
      "name": "python3",
      "display_name": "Python 3"
    }
  },
  "cells": [
    {
      "cell_type": "markdown",
      "metadata": {
        "id": "view-in-github",
        "colab_type": "text"
      },
      "source": [
        "<a href=\"https://colab.research.google.com/github/4060E027/AI-2020/blob/master/20201007.ipynb\" target=\"_parent\"><img src=\"https://colab.research.google.com/assets/colab-badge.svg\" alt=\"Open In Colab\"/></a>"
      ]
    },
    {
      "cell_type": "code",
      "metadata": {
        "id": "1OVWTj2M1x5V",
        "outputId": "97c7eb2f-2b60-460e-c07c-b2045b20c4dd",
        "colab": {
          "base_uri": "https://localhost:8080/"
        }
      },
      "source": [
        "!git clone https://github.com/tensorflow/examples --depth 1"
      ],
      "execution_count": 3,
      "outputs": [
        {
          "output_type": "stream",
          "text": [
            "Cloning into 'examples'...\n",
            "remote: Enumerating objects: 1861, done.\u001b[K\n",
            "remote: Counting objects: 100% (1861/1861), done.\u001b[K\n",
            "remote: Compressing objects: 100% (1170/1170), done.\u001b[K\n",
            "remote: Total 1861 (delta 529), reused 1467 (delta 405), pack-reused 0\u001b[K\n",
            "Receiving objects: 100% (1861/1861), 12.24 MiB | 34.25 MiB/s, done.\n",
            "Resolving deltas: 100% (529/529), done.\n"
          ],
          "name": "stdout"
        }
      ]
    },
    {
      "cell_type": "code",
      "metadata": {
        "id": "jWyt5sq24j58",
        "outputId": "36b3c855-bc86-42b2-845f-d3bb4af24a7a",
        "colab": {
          "base_uri": "https://localhost:8080/"
        }
      },
      "source": [
        "ls"
      ],
      "execution_count": 4,
      "outputs": [
        {
          "output_type": "stream",
          "text": [
            "\u001b[0m\u001b[01;34mexamples\u001b[0m/  \u001b[01;34msample_data\u001b[0m/\n"
          ],
          "name": "stdout"
        }
      ]
    },
    {
      "cell_type": "code",
      "metadata": {
        "id": "Z8xZIuDE4zRk",
        "outputId": "4dab6c40-fa7a-4533-a6d1-83a1676af262",
        "colab": {
          "base_uri": "https://localhost:8080/"
        }
      },
      "source": [
        "cd examples/"
      ],
      "execution_count": 5,
      "outputs": [
        {
          "output_type": "stream",
          "text": [
            "/content/examples\n"
          ],
          "name": "stdout"
        }
      ]
    },
    {
      "cell_type": "code",
      "metadata": {
        "id": "4BCt00uZ429r",
        "outputId": "e4e76627-7748-4ad1-87d9-558a625acff4",
        "colab": {
          "base_uri": "https://localhost:8080/"
        }
      },
      "source": [
        "ls"
      ],
      "execution_count": 6,
      "outputs": [
        {
          "output_type": "stream",
          "text": [
            "AUTHORS     CONTRIBUTING.md  LICENSE    setup.py\n",
            "CODEOWNERS  \u001b[0m\u001b[01;34mcourses\u001b[0m/         \u001b[01;34mlite\u001b[0m/      \u001b[01;34mtemplates\u001b[0m/\n",
            "\u001b[01;34mcommunity\u001b[0m/  __init__.py      README.md  \u001b[01;34mtensorflow_examples\u001b[0m/\n"
          ],
          "name": "stdout"
        }
      ]
    },
    {
      "cell_type": "code",
      "metadata": {
        "id": "CF7W66R044hn",
        "outputId": "46fba0ff-b432-4bea-b814-05170676b408",
        "colab": {
          "base_uri": "https://localhost:8080/"
        }
      },
      "source": [
        "import numpy as np\n",
        "ar2=np.array([[0,3,5],[2,8,7]])\n",
        "# ar2.shape\n",
        "ar2.ndim"
      ],
      "execution_count": 7,
      "outputs": [
        {
          "output_type": "execute_result",
          "data": {
            "text/plain": [
              "2"
            ]
          },
          "metadata": {
            "tags": []
          },
          "execution_count": 7
        }
      ]
    },
    {
      "cell_type": "code",
      "metadata": {
        "id": "AaM40Yf17VvL",
        "outputId": "89711a47-0644-4189-a249-a48160c2fd18",
        "colab": {
          "base_uri": "https://localhost:8080/"
        }
      },
      "source": [
        "ar=np.array([2,4,6,8]); \n",
        "ar.dtype"
      ],
      "execution_count": 8,
      "outputs": [
        {
          "output_type": "execute_result",
          "data": {
            "text/plain": [
              "dtype('int64')"
            ]
          },
          "metadata": {
            "tags": []
          },
          "execution_count": 8
        }
      ]
    },
    {
      "cell_type": "code",
      "metadata": {
        "id": "WI1KFKcq7ef3",
        "outputId": "5f7e6b56-39e5-49b0-9c5b-9ca60ebfa1bf",
        "colab": {
          "base_uri": "https://localhost:8080/"
        }
      },
      "source": [
        "f_ar = np.array([13,-3,8.88])\n",
        "f_ar\n",
        "\n",
        "intf_ar=f_ar.astype(int)\n",
        "intf_ar"
      ],
      "execution_count": 9,
      "outputs": [
        {
          "output_type": "execute_result",
          "data": {
            "text/plain": [
              "array([13, -3,  8])"
            ]
          },
          "metadata": {
            "tags": []
          },
          "execution_count": 9
        }
      ]
    },
    {
      "cell_type": "code",
      "metadata": {
        "id": "8k1eW8HY7jjf",
        "outputId": "b6445493-cf6e-40dc-9a48-6864414c589b",
        "colab": {
          "base_uri": "https://localhost:8080/"
        }
      },
      "source": [
        "# Generate some random data\n",
        "data = np.random.randn(2, 3)\n",
        "data"
      ],
      "execution_count": 12,
      "outputs": [
        {
          "output_type": "execute_result",
          "data": {
            "text/plain": [
              "array([[ 0.20592408, -0.1148669 , -0.02120852],\n",
              "       [ 0.48232512,  0.24310827,  0.42627418]])"
            ]
          },
          "metadata": {
            "tags": []
          },
          "execution_count": 12
        }
      ]
    },
    {
      "cell_type": "code",
      "metadata": {
        "id": "gAC_reMLC-sP",
        "outputId": "4ff9f247-9fa2-4c20-e316-420188fd0d3d",
        "colab": {
          "base_uri": "https://localhost:8080/"
        }
      },
      "source": [
        "data = np.random.uniform(1, 5, 10)\n",
        "data"
      ],
      "execution_count": 20,
      "outputs": [
        {
          "output_type": "execute_result",
          "data": {
            "text/plain": [
              "array([2.66516352, 1.55757886, 1.95657357, 1.63583229, 2.3542152 ,\n",
              "       4.73483753, 2.63872347, 3.09510568, 4.87955864, 4.74760398])"
            ]
          },
          "metadata": {
            "tags": []
          },
          "execution_count": 20
        }
      ]
    },
    {
      "cell_type": "code",
      "metadata": {
        "id": "pBhvHT_mDMJk",
        "outputId": "9357e3f3-b6a1-4cdf-f8f9-6b71ac8b5345",
        "colab": {
          "base_uri": "https://localhost:8080/"
        }
      },
      "source": [
        "sum(data)"
      ],
      "execution_count": 21,
      "outputs": [
        {
          "output_type": "execute_result",
          "data": {
            "text/plain": [
              "30.26519273512983"
            ]
          },
          "metadata": {
            "tags": []
          },
          "execution_count": 21
        }
      ]
    }
  ]
}